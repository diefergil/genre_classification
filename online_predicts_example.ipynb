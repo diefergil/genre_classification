{
 "cells": [
  {
   "cell_type": "code",
   "execution_count": 6,
   "metadata": {},
   "outputs": [],
   "source": [
    "import requests\n",
    "import json\n",
    "import pandas as pd\n",
    "\n",
    "with open(\"model/input_example.json\") as fp:\n",
    "    data = json.load(fp)\n",
    "\n",
    "\n"
   ]
  },
  {
   "cell_type": "code",
   "execution_count": 43,
   "metadata": {},
   "outputs": [],
   "source": [
    "data ={\"columns\":\n",
    "    [\"Unnamed: 0\", \"Unnamed: 0.1\", \"danceability\", \"energy\", \"key\", 'loudness', \"mode\", \"speechiness\", \"acousticness\", \"instrumentalness\", \"liveness\", \"valence\", \"tempo\", \"type\", \"duration_ms\", \"time_signature\", \"genre\", \"text_feature\"]    ,\"index\":[0,1]\n",
    "    ,\"data\":\n",
    "        [\n",
    "            [31008,31008,0.711,0.884,9, 0.8,1,0.199,0.004,0.442,0.0798,0.206,145.022,\"audio_features\",398897,4,\"psytrance\",\"Psytrance New Releases 2020 \"],\n",
    "            [1256,1256,0.703,0.669, 0.9 ,11,1,0.185,0.304,0.0,0.0996,0.277,191.81,\"audio_features\",213793,4,\"Dark Trap\",\" WXRLDTOUR\"]\n",
    "        ]\n",
    "}"
   ]
  },
  {
   "cell_type": "code",
   "execution_count": 44,
   "metadata": {},
   "outputs": [
    {
     "name": "stdout",
     "output_type": "stream",
     "text": [
      "['psytrance', 'Hiphop']\n"
     ]
    }
   ],
   "source": [
    "results = requests.post(\"http://localhost:5000/invocations\", json=data)\n",
    "\n",
    "print(results.json())\n"
   ]
  },
  {
   "cell_type": "code",
   "execution_count": null,
   "metadata": {},
   "outputs": [],
   "source": []
  }
 ],
 "metadata": {
  "interpreter": {
   "hash": "d52e89c6918a0d4c9ff5f2faa47cdb177d4594cf36dbf2794799dcedfa16558b"
  },
  "kernelspec": {
   "display_name": "Python 3.8.12 64-bit ('udacity': conda)",
   "language": "python",
   "name": "python3"
  },
  "language_info": {
   "codemirror_mode": {
    "name": "ipython",
    "version": 3
   },
   "file_extension": ".py",
   "mimetype": "text/x-python",
   "name": "python",
   "nbconvert_exporter": "python",
   "pygments_lexer": "ipython3",
   "version": "3.8.12"
  },
  "orig_nbformat": 4
 },
 "nbformat": 4,
 "nbformat_minor": 2
}
